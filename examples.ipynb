{
 "cells": [
  {
   "cell_type": "code",
   "execution_count": 1,
   "source": [
    "from items import *"
   ],
   "outputs": [
    {
     "ename": "TypeError",
     "evalue": "",
     "output_type": "error",
     "traceback": [
      "\u001B[1;31m---------------------------------------------------------------------------\u001B[0m",
      "\u001B[1;31mTypeError\u001B[0m                                 Traceback (most recent call last)",
      "\u001B[1;32m~\\AppData\\Local\\Temp/ipykernel_20800/3742516049.py\u001B[0m in \u001B[0;36m<module>\u001B[1;34m\u001B[0m\n\u001B[1;32m----> 1\u001B[1;33m \u001B[1;32mfrom\u001B[0m \u001B[0mdecks\u001B[0m \u001B[1;32mimport\u001B[0m \u001B[0mfrench\u001B[0m\u001B[1;33m\u001B[0m\u001B[1;33m\u001B[0m\u001B[0m\n\u001B[0m\u001B[0;32m      2\u001B[0m \u001B[1;33m\u001B[0m\u001B[0m\n",
      "\u001B[1;32mD:\\Repositories\\card-engine\\decks.py\u001B[0m in \u001B[0;36m<module>\u001B[1;34m\u001B[0m\n\u001B[0;32m      5\u001B[0m \u001B[1;33m\u001B[0m\u001B[0m\n\u001B[0;32m      6\u001B[0m \u001B[1;33m\u001B[0m\u001B[0m\n\u001B[1;32m----> 7\u001B[1;33m \u001B[1;32mclass\u001B[0m \u001B[0mCard\u001B[0m\u001B[1;33m(\u001B[0m\u001B[0mItem\u001B[0m\u001B[1;33m)\u001B[0m\u001B[1;33m:\u001B[0m\u001B[1;33m\u001B[0m\u001B[1;33m\u001B[0m\u001B[0m\n\u001B[0m\u001B[0;32m      8\u001B[0m     \u001B[0mrank\u001B[0m \u001B[1;33m=\u001B[0m \u001B[0mProperty\u001B[0m\u001B[1;33m(\u001B[0m\u001B[1;34m\"rank\"\u001B[0m\u001B[1;33m,\u001B[0m \u001B[1;32mlambda\u001B[0m \u001B[0mx\u001B[0m\u001B[1;33m:\u001B[0m \u001B[1;36m0\u001B[0m \u001B[1;33m<\u001B[0m \u001B[0mx\u001B[0m \u001B[1;33m<=\u001B[0m \u001B[1;36m13\u001B[0m\u001B[1;33m,\u001B[0m \u001B[0mint\u001B[0m\u001B[1;33m)\u001B[0m\u001B[1;33m\u001B[0m\u001B[1;33m\u001B[0m\u001B[0m\n\u001B[0;32m      9\u001B[0m     \u001B[0msuit\u001B[0m \u001B[1;33m=\u001B[0m \u001B[0mProperty\u001B[0m\u001B[1;33m(\u001B[0m\u001B[1;34m\"suit\"\u001B[0m\u001B[1;33m,\u001B[0m \u001B[1;33m[\u001B[0m\u001B[1;34m\"spade\"\u001B[0m\u001B[1;33m,\u001B[0m \u001B[1;34m\"heart\"\u001B[0m\u001B[1;33m,\u001B[0m \u001B[1;34m\"club\"\u001B[0m\u001B[1;33m,\u001B[0m \u001B[1;34m\"diamond\"\u001B[0m\u001B[1;33m,\u001B[0m \u001B[1;36m7\u001B[0m\u001B[1;33m]\u001B[0m\u001B[1;33m,\u001B[0m \u001B[0mstr\u001B[0m\u001B[1;33m)\u001B[0m\u001B[1;33m\u001B[0m\u001B[1;33m\u001B[0m\u001B[0m\n",
      "\u001B[1;32mD:\\Repositories\\card-engine\\decks.py\u001B[0m in \u001B[0;36mCard\u001B[1;34m()\u001B[0m\n\u001B[0;32m      6\u001B[0m \u001B[1;33m\u001B[0m\u001B[0m\n\u001B[0;32m      7\u001B[0m \u001B[1;32mclass\u001B[0m \u001B[0mCard\u001B[0m\u001B[1;33m(\u001B[0m\u001B[0mItem\u001B[0m\u001B[1;33m)\u001B[0m\u001B[1;33m:\u001B[0m\u001B[1;33m\u001B[0m\u001B[1;33m\u001B[0m\u001B[0m\n\u001B[1;32m----> 8\u001B[1;33m     \u001B[0mrank\u001B[0m \u001B[1;33m=\u001B[0m \u001B[0mProperty\u001B[0m\u001B[1;33m(\u001B[0m\u001B[1;34m\"rank\"\u001B[0m\u001B[1;33m,\u001B[0m \u001B[1;32mlambda\u001B[0m \u001B[0mx\u001B[0m\u001B[1;33m:\u001B[0m \u001B[1;36m0\u001B[0m \u001B[1;33m<\u001B[0m \u001B[0mx\u001B[0m \u001B[1;33m<=\u001B[0m \u001B[1;36m13\u001B[0m\u001B[1;33m,\u001B[0m \u001B[0mint\u001B[0m\u001B[1;33m)\u001B[0m\u001B[1;33m\u001B[0m\u001B[1;33m\u001B[0m\u001B[0m\n\u001B[0m\u001B[0;32m      9\u001B[0m     \u001B[0msuit\u001B[0m \u001B[1;33m=\u001B[0m \u001B[0mProperty\u001B[0m\u001B[1;33m(\u001B[0m\u001B[1;34m\"suit\"\u001B[0m\u001B[1;33m,\u001B[0m \u001B[1;33m[\u001B[0m\u001B[1;34m\"spade\"\u001B[0m\u001B[1;33m,\u001B[0m \u001B[1;34m\"heart\"\u001B[0m\u001B[1;33m,\u001B[0m \u001B[1;34m\"club\"\u001B[0m\u001B[1;33m,\u001B[0m \u001B[1;34m\"diamond\"\u001B[0m\u001B[1;33m,\u001B[0m \u001B[1;36m7\u001B[0m\u001B[1;33m]\u001B[0m\u001B[1;33m,\u001B[0m \u001B[0mstr\u001B[0m\u001B[1;33m)\u001B[0m\u001B[1;33m\u001B[0m\u001B[1;33m\u001B[0m\u001B[0m\n\u001B[0;32m     10\u001B[0m \u001B[1;33m\u001B[0m\u001B[0m\n",
      "\u001B[1;32mD:\\Repositories\\card-engine\\items.py\u001B[0m in \u001B[0;36m__init__\u001B[1;34m(self, name, validator, types)\u001B[0m\n\u001B[0;32m     26\u001B[0m                 \u001B[1;32mreturn\u001B[0m \u001B[0m_type\u001B[0m \u001B[1;32min\u001B[0m \u001B[0mtypes\u001B[0m\u001B[1;33m\u001B[0m\u001B[1;33m\u001B[0m\u001B[0m\n\u001B[0;32m     27\u001B[0m         \u001B[1;32melse\u001B[0m\u001B[1;33m:\u001B[0m\u001B[1;33m\u001B[0m\u001B[1;33m\u001B[0m\u001B[0m\n\u001B[1;32m---> 28\u001B[1;33m             \u001B[1;32mraise\u001B[0m \u001B[0mTypeError\u001B[0m\u001B[1;33m(\u001B[0m\u001B[1;33m)\u001B[0m\u001B[1;33m\u001B[0m\u001B[1;33m\u001B[0m\u001B[0m\n\u001B[0m\u001B[0;32m     29\u001B[0m \u001B[1;33m\u001B[0m\u001B[0m\n\u001B[0;32m     30\u001B[0m         \u001B[0mself\u001B[0m\u001B[1;33m.\u001B[0m\u001B[0mvalidator\u001B[0m \u001B[1;33m=\u001B[0m \u001B[1;32mlambda\u001B[0m \u001B[0marg\u001B[0m\u001B[1;33m:\u001B[0m \u001B[0mvalidate\u001B[0m\u001B[1;33m(\u001B[0m\u001B[0marg\u001B[0m\u001B[1;33m)\u001B[0m \u001B[1;32mand\u001B[0m \u001B[0mtype_validate\u001B[0m\u001B[1;33m(\u001B[0m\u001B[0mtype\u001B[0m\u001B[1;33m(\u001B[0m\u001B[0marg\u001B[0m\u001B[1;33m)\u001B[0m\u001B[1;33m)\u001B[0m\u001B[1;33m\u001B[0m\u001B[1;33m\u001B[0m\u001B[0m\n",
      "\u001B[1;31mTypeError\u001B[0m: "
     ]
    }
   ],
   "metadata": {}
  },
  {
   "cell_type": "code",
   "execution_count": 6,
   "source": [
    "class Card(Item):\r\n",
    "\tvalue = Property(\"value\", lambda x: isinstance(x, int) and x < 14 and x > 0)\r\n",
    "\tsuit = Property(\"suit\", [\"h\", \"s\", \"d\", \"c\"])\r\n",
    "\r\n",
    "card = Card(value=13, suit=\"s\")\r\n",
    "print(card.__dict__)"
   ],
   "outputs": [],
   "metadata": {}
  },
  {
   "cell_type": "code",
   "execution_count": null,
   "source": [],
   "outputs": [],
   "metadata": {}
  }
 ],
 "metadata": {
  "orig_nbformat": 4,
  "language_info": {
   "name": "python",
   "version": "3.9.2",
   "mimetype": "text/x-python",
   "codemirror_mode": {
    "name": "ipython",
    "version": 3
   },
   "pygments_lexer": "ipython3",
   "nbconvert_exporter": "python",
   "file_extension": ".py"
  },
  "kernelspec": {
   "name": "python3",
   "language": "python",
   "display_name": "Python 3 (ipykernel)"
  },
  "interpreter": {
   "hash": "e2845a350cac1412ad703e4934a7f835096d3a89d8c08bf4817d410ec8d47e21"
  }
 },
 "nbformat": 4,
 "nbformat_minor": 2
}