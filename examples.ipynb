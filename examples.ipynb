{
 "cells": [
  {
   "cell_type": "code",
   "execution_count": 3,
   "source": [
    "from items import *"
   ],
   "outputs": [],
   "metadata": {}
  },
  {
   "cell_type": "code",
   "execution_count": 8,
   "source": [
    "class Card(Item):\n",
    "\tvalue = Property(lambda x: isinstance(x, int) and 14 > x > 0)\n",
    "\tsuit = Property([\"h\", \"s\", \"d\", \"c\"])\n",
    "\n",
    "Card().__dict__"
   ],
   "outputs": [
    {
     "data": {
      "text/plain": "{}"
     },
     "execution_count": 8,
     "metadata": {},
     "output_type": "execute_result"
    }
   ],
   "metadata": {}
  },
  {
   "cell_type": "code",
   "execution_count": 2,
   "source": [],
   "outputs": [],
   "metadata": {}
  }
 ],
 "metadata": {
  "orig_nbformat": 4,
  "language_info": {
   "name": "python",
   "version": "3.9.2",
   "mimetype": "text/x-python",
   "codemirror_mode": {
    "name": "ipython",
    "version": 3
   },
   "pygments_lexer": "ipython3",
   "nbconvert_exporter": "python",
   "file_extension": ".py"
  },
  "kernelspec": {
   "name": "python3",
   "language": "python",
   "display_name": "Python 3 (ipykernel)"
  },
  "interpreter": {
   "hash": "e2845a350cac1412ad703e4934a7f835096d3a89d8c08bf4817d410ec8d47e21"
  }
 },
 "nbformat": 4,
 "nbformat_minor": 2
}