{
 "cells": [
  {
   "cell_type": "code",
   "execution_count": 3,
   "source": [
    "from items import *"
   ],
   "outputs": [
    {
     "data": {
      "text/plain": "[<decks.Card at 0x192997cceb0>,\n <decks.Card at 0x19299796370>,\n <decks.Card at 0x192997929d0>,\n <decks.Card at 0x19299792040>,\n <decks.Card at 0x192997921c0>,\n <decks.Card at 0x19299792340>,\n <decks.Card at 0x192997924c0>,\n <decks.Card at 0x19299792640>,\n <decks.Card at 0x192997927c0>,\n <decks.Card at 0x19299792940>,\n <decks.Card at 0x19299792ac0>,\n <decks.Card at 0x19299792c40>,\n <decks.Card at 0x19299792df0>,\n <decks.Card at 0x19299792f70>,\n <decks.Card at 0x19299792e80>,\n <decks.Card at 0x19299792be0>,\n <decks.Card at 0x19299792970>,\n <decks.Card at 0x19299792850>,\n <decks.Card at 0x192997925e0>,\n <decks.Card at 0x19299792ee0>,\n <decks.Card at 0x19299792250>,\n <decks.Card at 0x19299792070>,\n <decks.Card at 0x1929976ac70>,\n <decks.Card at 0x1929976ae80>,\n <decks.Card at 0x1929976af70>,\n <decks.Card at 0x1929976aa60>,\n <decks.Card at 0x1929976acd0>,\n <decks.Card at 0x192998ee3a0>,\n <decks.Card at 0x192998ee310>,\n <decks.Card at 0x192998ee550>,\n <decks.Card at 0x192998ee6d0>,\n <decks.Card at 0x192998ee790>,\n <decks.Card at 0x192998ee4f0>,\n <decks.Card at 0x192998ee880>,\n <decks.Card at 0x192998ee7c0>,\n <decks.Card at 0x192998ee8e0>,\n <decks.Card at 0x192998ee970>,\n <decks.Card at 0x192998ee9a0>,\n <decks.Card at 0x192998eea30>,\n <decks.Card at 0x192998eea90>,\n <decks.Card at 0x192998eeac0>,\n <decks.Card at 0x192998eeb20>,\n <decks.Card at 0x192998eeb80>,\n <decks.Card at 0x192998eebe0>,\n <decks.Card at 0x192998eec40>,\n <decks.Card at 0x192998eeca0>,\n <decks.Card at 0x192998eed00>,\n <decks.Card at 0x192998eed60>,\n <decks.Card at 0x192998eedc0>,\n <decks.Card at 0x192998eee20>,\n <decks.Card at 0x192998eee80>,\n <decks.Card at 0x192998eeee0>]"
     },
     "execution_count": 3,
     "metadata": {},
     "output_type": "execute_result"
    }
   ],
   "metadata": {}
  },
  {
   "cell_type": "code",
   "execution_count": 4,
   "source": [
    "class Card(Item):\r\n",
    "\tvalue = Property(\"value\", lambda x: isinstance(x, int) and x < 14 and x > 0)\r\n",
    "\tsuit = Property(\"suit\", [\"h\", \"s\", \"d\", \"c\"])\r\n",
    "\r\n",
    "card = Card(value=13, suit=\"s\")\r\n",
    "print(card.__dict__)"
   ],
   "outputs": [
    {
     "ename": "ImportError",
     "evalue": "cannot import name '_test' from 'Test' (D:\\Repositories\\card-engine\\Test.py)",
     "output_type": "error",
     "traceback": [
      "\u001B[1;31m---------------------------------------------------------------------------\u001B[0m",
      "\u001B[1;31mImportError\u001B[0m                               Traceback (most recent call last)",
      "\u001B[1;32m~\\AppData\\Local\\Temp/ipykernel_23360/345034583.py\u001B[0m in \u001B[0;36m<module>\u001B[1;34m\u001B[0m\n\u001B[1;32m----> 1\u001B[1;33m \u001B[1;32mfrom\u001B[0m \u001B[0mTest\u001B[0m \u001B[1;32mimport\u001B[0m \u001B[0m_test\u001B[0m\u001B[1;33m\u001B[0m\u001B[1;33m\u001B[0m\u001B[0m\n\u001B[0m\u001B[0;32m      2\u001B[0m \u001B[0m_test\u001B[0m\u001B[1;33m\u001B[0m\u001B[1;33m\u001B[0m\u001B[0m\n",
      "\u001B[1;31mImportError\u001B[0m: cannot import name '_test' from 'Test' (D:\\Repositories\\card-engine\\Test.py)"
     ]
    }
   ],
   "metadata": {}
  },
  {
   "cell_type": "code",
   "execution_count": null,
   "source": [],
   "outputs": [],
   "metadata": {}
  }
 ],
 "metadata": {
  "orig_nbformat": 4,
  "language_info": {
   "name": "python",
   "version": "3.9.2",
   "mimetype": "text/x-python",
   "codemirror_mode": {
    "name": "ipython",
    "version": 3
   },
   "pygments_lexer": "ipython3",
   "nbconvert_exporter": "python",
   "file_extension": ".py"
  },
  "kernelspec": {
   "name": "python3",
   "language": "python",
   "display_name": "Python 3 (ipykernel)"
  },
  "interpreter": {
   "hash": "e2845a350cac1412ad703e4934a7f835096d3a89d8c08bf4817d410ec8d47e21"
  }
 },
 "nbformat": 4,
 "nbformat_minor": 2
}